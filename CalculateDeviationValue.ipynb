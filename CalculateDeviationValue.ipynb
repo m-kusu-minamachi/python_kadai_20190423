{
 "cells": [
  {
   "cell_type": "markdown",
   "metadata": {},
   "source": [
    "# 偏差値計算\n",
    "\n",
    "CSVデータを読み込み、Y列の数値を抽出し、各行に対して偏差値を求める。"
   ]
  },
  {
   "cell_type": "markdown",
   "metadata": {},
   "source": [
    "$N$をデータ数、$x_i$を各データとして、平均値$\\mu$は\n",
    "$$\n",
    "\\mu = \\frac{1}{N} \\sum^{N}_{i=1} x_i\n",
    "$$\n",
    "標準偏差$\\sigma$は\n",
    "$$\n",
    "\\sigma = \\sqrt{\\frac{1}{N}\\sum^{N}_{i=0} (x_i - \\mu)^2}\n",
    "$$\n",
    "$x_i$の偏差値$T_i$は\n",
    "$$\n",
    "T_i = \\frac{10(x_i - \\mu_x)}{\\sigma} + 50\n",
    "$$\n"
   ]
  },
  {
   "cell_type": "markdown",
   "metadata": {},
   "source": [
    "- [DataFrame.mean](https://pandas.pydata.org/pandas-docs/stable/reference/api/pandas.DataFrame.mean.html)\n",
    "- [DataFrame.std](https://pandas.pydata.org/pandas-docs/stable/reference/api/pandas.DataFrame.std.html)"
   ]
  },
  {
   "cell_type": "code",
   "execution_count": 1,
   "metadata": {},
   "outputs": [],
   "source": [
    "import pandas as pd\n",
    "\n",
    "def deviation_value(df):\n",
    "    return 10*(df-df.mean()) / df.std(ddof=0) + 50"
   ]
  },
  {
   "cell_type": "markdown",
   "metadata": {},
   "source": [
    "ファイルを読み込んで計算"
   ]
  },
  {
   "cell_type": "code",
   "execution_count": 2,
   "metadata": {},
   "outputs": [],
   "source": [
    "import os\n",
    "\n",
    "df = pd.read_csv(os.path.join('dest', 'data.csv'))\n",
    "result = deviation_value(df.Y)"
   ]
  },
  {
   "cell_type": "code",
   "execution_count": 3,
   "metadata": {},
   "outputs": [
    {
     "data": {
      "text/plain": [
       "0     2915987069\n",
       "1     5983176907\n",
       "2      212339142\n",
       "3     9167577202\n",
       "4     9231769272\n",
       "5     1102752979\n",
       "6     5959341881\n",
       "7      684218327\n",
       "8     9321578942\n",
       "9     7608839475\n",
       "10    7584153507\n",
       "11    7803395693\n",
       "12    4674567959\n",
       "13    4539124217\n",
       "14    6021355560\n",
       "15    5025701246\n",
       "16    6224921926\n",
       "17    6139792003\n",
       "18    7349047443\n",
       "19    7621239752\n",
       "Name: Y, dtype: int64"
      ]
     },
     "execution_count": 3,
     "metadata": {},
     "output_type": "execute_result"
    }
   ],
   "source": [
    "df.Y"
   ]
  },
  {
   "cell_type": "code",
   "execution_count": 4,
   "metadata": {
    "scrolled": true
   },
   "outputs": [
    {
     "data": {
      "text/plain": [
       "0     39.380746\n",
       "1     50.839186\n",
       "2     29.280430\n",
       "3     62.735502\n",
       "4     62.975311\n",
       "5     32.606847\n",
       "6     50.750143\n",
       "7     31.043281\n",
       "8     63.310823\n",
       "9     56.912353\n",
       "10    56.820131\n",
       "11    57.639178\n",
       "12    45.950471\n",
       "13    45.444479\n",
       "14    50.981814\n",
       "15    47.262238\n",
       "16    51.742299\n",
       "17    51.424270\n",
       "18    55.941819\n",
       "19    56.958678\n",
       "Name: Y, dtype: float64"
      ]
     },
     "execution_count": 4,
     "metadata": {},
     "output_type": "execute_result"
    }
   ],
   "source": [
    "result"
   ]
  }
 ],
 "metadata": {
  "kernelspec": {
   "display_name": "Python 3",
   "language": "python",
   "name": "python3"
  },
  "language_info": {
   "codemirror_mode": {
    "name": "ipython",
    "version": 3
   },
   "file_extension": ".py",
   "mimetype": "text/x-python",
   "name": "python",
   "nbconvert_exporter": "python",
   "pygments_lexer": "ipython3",
   "version": "3.7.3"
  }
 },
 "nbformat": 4,
 "nbformat_minor": 2
}
