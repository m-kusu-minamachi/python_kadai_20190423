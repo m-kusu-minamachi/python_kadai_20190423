{
 "cells": [
  {
   "cell_type": "markdown",
   "metadata": {},
   "source": [
    "# テストデータ生成\n",
    "\n",
    "- `KEY`列: アルファベット大小混合ランダム3文字 + 数字ランダム5文字\n",
    "- `X`列: アルファベット大小混合ランダム10文字\n",
    "- `Y`列: 数字ランダム10文字\n"
   ]
  },
  {
   "cell_type": "code",
   "execution_count": 1,
   "metadata": {
    "scrolled": true
   },
   "outputs": [],
   "source": [
    "import random, string\n",
    "\n",
    "# KEY列の文字列を生成\n",
    "def get_key():\n",
    "    alp = random.choices(string.ascii_letters, k=3)\n",
    "    dig = random.choices(string.digits, k=5)\n",
    "    return ''.join(alp + dig)\n",
    "\n",
    "# X列の文字列を生成\n",
    "def get_x():\n",
    "    alp = random.choices(string.ascii_letters, k=10)\n",
    "    return ''.join(alp)\n",
    "\n",
    "# Y列の文字列を生成\n",
    "def get_y():\n",
    "    dig = random.choices(string.digits, k=10)\n",
    "    return ''.join(dig)\n"
   ]
  },
  {
   "cell_type": "markdown",
   "metadata": {},
   "source": [
    "PandasのDataFrameに格納し、CSVデータとして出力。"
   ]
  },
  {
   "cell_type": "code",
   "execution_count": 2,
   "metadata": {},
   "outputs": [],
   "source": [
    "import pandas as pd\n",
    "import os\n",
    "\n",
    "data_num = 20\n",
    "filename = os.path.join('dest', 'data.csv')\n",
    "df = pd.DataFrame(columns=['KEY', 'X', 'Y'])\n",
    "\n",
    "for i in range(data_num):\n",
    "    series = pd.Series([get_key(), get_x(), get_y()], index=df.columns)\n",
    "    df = df.append(series, ignore_index=True)\n",
    "\n",
    "df = df.sort_values('KEY')"
   ]
  },
  {
   "cell_type": "code",
   "execution_count": 3,
   "metadata": {
    "scrolled": true
   },
   "outputs": [
    {
     "data": {
      "text/html": [
       "<div>\n",
       "<style scoped>\n",
       "    .dataframe tbody tr th:only-of-type {\n",
       "        vertical-align: middle;\n",
       "    }\n",
       "\n",
       "    .dataframe tbody tr th {\n",
       "        vertical-align: top;\n",
       "    }\n",
       "\n",
       "    .dataframe thead th {\n",
       "        text-align: right;\n",
       "    }\n",
       "</style>\n",
       "<table border=\"1\" class=\"dataframe\">\n",
       "  <thead>\n",
       "    <tr style=\"text-align: right;\">\n",
       "      <th></th>\n",
       "      <th>KEY</th>\n",
       "      <th>X</th>\n",
       "      <th>Y</th>\n",
       "    </tr>\n",
       "  </thead>\n",
       "  <tbody>\n",
       "    <tr>\n",
       "      <th>1</th>\n",
       "      <td>Evq11903</td>\n",
       "      <td>GqYQlbMZUm</td>\n",
       "      <td>2915987069</td>\n",
       "    </tr>\n",
       "    <tr>\n",
       "      <th>8</th>\n",
       "      <td>FXD54644</td>\n",
       "      <td>rrCQssgVRv</td>\n",
       "      <td>5983176907</td>\n",
       "    </tr>\n",
       "    <tr>\n",
       "      <th>11</th>\n",
       "      <td>HgN96034</td>\n",
       "      <td>MQBaxzjVYz</td>\n",
       "      <td>0212339142</td>\n",
       "    </tr>\n",
       "    <tr>\n",
       "      <th>3</th>\n",
       "      <td>Jxw22845</td>\n",
       "      <td>KtmUcEGyVF</td>\n",
       "      <td>9167577202</td>\n",
       "    </tr>\n",
       "    <tr>\n",
       "      <th>16</th>\n",
       "      <td>Kfx68301</td>\n",
       "      <td>UKJBiKrbuU</td>\n",
       "      <td>9231769272</td>\n",
       "    </tr>\n",
       "    <tr>\n",
       "      <th>17</th>\n",
       "      <td>Luw53224</td>\n",
       "      <td>NrJHTFlCWt</td>\n",
       "      <td>1102752979</td>\n",
       "    </tr>\n",
       "    <tr>\n",
       "      <th>2</th>\n",
       "      <td>SAo73250</td>\n",
       "      <td>JnHsUTRNot</td>\n",
       "      <td>5959341881</td>\n",
       "    </tr>\n",
       "    <tr>\n",
       "      <th>19</th>\n",
       "      <td>TFI89723</td>\n",
       "      <td>qoysZPJWDg</td>\n",
       "      <td>0684218327</td>\n",
       "    </tr>\n",
       "    <tr>\n",
       "      <th>5</th>\n",
       "      <td>Wum48275</td>\n",
       "      <td>swPUZSNNpv</td>\n",
       "      <td>9321578942</td>\n",
       "    </tr>\n",
       "    <tr>\n",
       "      <th>0</th>\n",
       "      <td>ZQy21414</td>\n",
       "      <td>ERNnaGakaf</td>\n",
       "      <td>7608839475</td>\n",
       "    </tr>\n",
       "  </tbody>\n",
       "</table>\n",
       "</div>"
      ],
      "text/plain": [
       "         KEY           X           Y\n",
       "1   Evq11903  GqYQlbMZUm  2915987069\n",
       "8   FXD54644  rrCQssgVRv  5983176907\n",
       "11  HgN96034  MQBaxzjVYz  0212339142\n",
       "3   Jxw22845  KtmUcEGyVF  9167577202\n",
       "16  Kfx68301  UKJBiKrbuU  9231769272\n",
       "17  Luw53224  NrJHTFlCWt  1102752979\n",
       "2   SAo73250  JnHsUTRNot  5959341881\n",
       "19  TFI89723  qoysZPJWDg  0684218327\n",
       "5   Wum48275  swPUZSNNpv  9321578942\n",
       "0   ZQy21414  ERNnaGakaf  7608839475"
      ]
     },
     "execution_count": 3,
     "metadata": {},
     "output_type": "execute_result"
    }
   ],
   "source": [
    "df[:10]"
   ]
  },
  {
   "cell_type": "code",
   "execution_count": 4,
   "metadata": {},
   "outputs": [],
   "source": [
    "df.to_csv(path_or_buf=filename, index=False)"
   ]
  }
 ],
 "metadata": {
  "kernelspec": {
   "display_name": "Python 3",
   "language": "python",
   "name": "python3"
  },
  "language_info": {
   "codemirror_mode": {
    "name": "ipython",
    "version": 3
   },
   "file_extension": ".py",
   "mimetype": "text/x-python",
   "name": "python",
   "nbconvert_exporter": "python",
   "pygments_lexer": "ipython3",
   "version": "3.7.3"
  }
 },
 "nbformat": 4,
 "nbformat_minor": 2
}
