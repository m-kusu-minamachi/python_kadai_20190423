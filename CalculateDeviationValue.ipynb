{
 "cells": [
  {
   "cell_type": "markdown",
   "metadata": {},
   "source": [
    "# 偏差値計算\n",
    "\n",
    "CSVデータを読み込み、Y列の数値を抽出し、各行に対して偏差値を求める。"
   ]
  },
  {
   "cell_type": "markdown",
   "metadata": {},
   "source": [
    "$N$をデータ数、$x_i$を各データとして、平均値$\\mu$は\n",
    "$$\n",
    "\\mu = \\frac{1}{N} \\sum^{N}_{i=1}\n",
    "$$\n",
    "標準偏差$\\sigma$は\n",
    "$$\n",
    "\\sigma = \\sqrt{\\frac{1}{N}\\sum^{N}_{i=0} (x_i - \\mu)^2}\n",
    "$$\n",
    "$x_i$の偏差値$T_i$は\n",
    "$$\n",
    "T_i = \\frac{10(x_i - \\mu_x)}{\\sigma} + 50\n",
    "$$\n"
   ]
  },
  {
   "cell_type": "markdown",
   "metadata": {},
   "source": [
    "- [DataFrame.mean](https://pandas.pydata.org/pandas-docs/stable/reference/api/pandas.DataFrame.mean.html)\n",
    "- [DataFrame.std](https://pandas.pydata.org/pandas-docs/stable/reference/api/pandas.DataFrame.std.html)"
   ]
  },
  {
   "cell_type": "code",
   "execution_count": 1,
   "metadata": {},
   "outputs": [],
   "source": [
    "import pandas as pd\n",
    "\n",
    "def deviation_value(df):\n",
    "    return 10*(df-df.mean()) / df.std(ddof=0) + 50"
   ]
  },
  {
   "cell_type": "markdown",
   "metadata": {},
   "source": [
    "ファイルを読み込んで計算"
   ]
  },
  {
   "cell_type": "code",
   "execution_count": 4,
   "metadata": {},
   "outputs": [],
   "source": [
    "import os\n",
    "\n",
    "df = pd.read_csv(os.path.join('dest', 'data.csv'))\n",
    "result = deviation_value(df.Y)"
   ]
  },
  {
   "cell_type": "code",
   "execution_count": 6,
   "metadata": {},
   "outputs": [
    {
     "data": {
      "text/plain": [
       "0    5848407418\n",
       "1    8200158032\n",
       "2    1426413973\n",
       "3    8655258343\n",
       "4    9599800594\n",
       "5    4881211561\n",
       "6    9936487026\n",
       "7    4157522155\n",
       "8     107367387\n",
       "9    7934639231\n",
       "Name: Y, dtype: int64"
      ]
     },
     "execution_count": 6,
     "metadata": {},
     "output_type": "execute_result"
    }
   ],
   "source": [
    "df.Y"
   ]
  },
  {
   "cell_type": "code",
   "execution_count": 7,
   "metadata": {},
   "outputs": [
    {
     "data": {
      "text/plain": [
       "6074726572.0"
      ]
     },
     "execution_count": 7,
     "metadata": {},
     "output_type": "execute_result"
    }
   ],
   "source": [
    "df.Y.mean()"
   ]
  },
  {
   "cell_type": "code",
   "execution_count": 3,
   "metadata": {
    "scrolled": true
   },
   "outputs": [
    {
     "data": {
      "text/plain": [
       "0    49.299368\n",
       "1    56.579849\n",
       "2    35.609889\n",
       "3    57.988735\n",
       "4    60.912821\n",
       "5    46.305151\n",
       "6    61.955125\n",
       "7    44.064774\n",
       "8    31.526423\n",
       "9    55.757863\n",
       "Name: Y, dtype: float64"
      ]
     },
     "execution_count": 3,
     "metadata": {},
     "output_type": "execute_result"
    }
   ],
   "source": [
    "result"
   ]
  }
 ],
 "metadata": {
  "kernelspec": {
   "display_name": "Python 3",
   "language": "python",
   "name": "python3"
  },
  "language_info": {
   "codemirror_mode": {
    "name": "ipython",
    "version": 3
   },
   "file_extension": ".py",
   "mimetype": "text/x-python",
   "name": "python",
   "nbconvert_exporter": "python",
   "pygments_lexer": "ipython3",
   "version": "3.7.3"
  }
 },
 "nbformat": 4,
 "nbformat_minor": 2
}
