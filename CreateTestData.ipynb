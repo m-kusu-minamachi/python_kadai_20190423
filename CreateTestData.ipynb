{
 "cells": [
  {
   "cell_type": "markdown",
   "metadata": {},
   "source": [
    "# テストデータ生成\n",
    "\n",
    "- `KEY`列: アルファベット大小混合ランダム3文字 + 数字ランダム5文字\n",
    "- `X`列: アルファベット大小混合ランダム10文字\n",
    "- `Y`列: 数字ランダム10文字\n"
   ]
  },
  {
   "cell_type": "code",
   "execution_count": 1,
   "metadata": {
    "scrolled": true
   },
   "outputs": [],
   "source": [
    "import random, string\n",
    "\n",
    "def get_key():\n",
    "    alp = random.choices(string.ascii_letters, k=3)\n",
    "    dig = random.choices(string.digits, k=5)\n",
    "    return ''.join(alp + dig)\n",
    "\n",
    "def get_x():\n",
    "    alp = random.choices(string.ascii_letters, k=10)\n",
    "    return ''.join(alp)\n",
    "\n",
    "def get_y():\n",
    "    dig = random.choices(string.digits, k=10)\n",
    "    return ''.join(dig)\n"
   ]
  },
  {
   "cell_type": "markdown",
   "metadata": {},
   "source": [
    "PandasのDataFrameに格納し、CSVデータとして出力。"
   ]
  },
  {
   "cell_type": "code",
   "execution_count": 2,
   "metadata": {},
   "outputs": [],
   "source": [
    "import pandas as pd\n",
    "import os\n",
    "\n",
    "data_num = 10\n",
    "filename = os.path.join('dest', 'data.csv')\n",
    "df = pd.DataFrame(columns=['KEY', 'X', 'Y'])\n",
    "\n",
    "for i in range(data_num):\n",
    "    series = pd.Series([get_key(), get_x(), get_y()], index=df.columns)\n",
    "    df = df.append(series, ignore_index=True)\n",
    "\n"
   ]
  },
  {
   "cell_type": "code",
   "execution_count": 3,
   "metadata": {
    "scrolled": true
   },
   "outputs": [
    {
     "data": {
      "text/html": [
       "<div>\n",
       "<style scoped>\n",
       "    .dataframe tbody tr th:only-of-type {\n",
       "        vertical-align: middle;\n",
       "    }\n",
       "\n",
       "    .dataframe tbody tr th {\n",
       "        vertical-align: top;\n",
       "    }\n",
       "\n",
       "    .dataframe thead th {\n",
       "        text-align: right;\n",
       "    }\n",
       "</style>\n",
       "<table border=\"1\" class=\"dataframe\">\n",
       "  <thead>\n",
       "    <tr style=\"text-align: right;\">\n",
       "      <th></th>\n",
       "      <th>KEY</th>\n",
       "      <th>X</th>\n",
       "      <th>Y</th>\n",
       "    </tr>\n",
       "  </thead>\n",
       "  <tbody>\n",
       "    <tr>\n",
       "      <th>0</th>\n",
       "      <td>aaM53950</td>\n",
       "      <td>eNAyyaIGYQ</td>\n",
       "      <td>5848407418</td>\n",
       "    </tr>\n",
       "    <tr>\n",
       "      <th>1</th>\n",
       "      <td>XUk65360</td>\n",
       "      <td>ltEaCgwoHA</td>\n",
       "      <td>8200158032</td>\n",
       "    </tr>\n",
       "    <tr>\n",
       "      <th>2</th>\n",
       "      <td>qSI30254</td>\n",
       "      <td>qrtOonaHvc</td>\n",
       "      <td>1426413973</td>\n",
       "    </tr>\n",
       "    <tr>\n",
       "      <th>3</th>\n",
       "      <td>tKN13702</td>\n",
       "      <td>piHmtaJTiR</td>\n",
       "      <td>8655258343</td>\n",
       "    </tr>\n",
       "    <tr>\n",
       "      <th>4</th>\n",
       "      <td>hAZ30064</td>\n",
       "      <td>UlTFPKYWlP</td>\n",
       "      <td>9599800594</td>\n",
       "    </tr>\n",
       "  </tbody>\n",
       "</table>\n",
       "</div>"
      ],
      "text/plain": [
       "        KEY           X           Y\n",
       "0  aaM53950  eNAyyaIGYQ  5848407418\n",
       "1  XUk65360  ltEaCgwoHA  8200158032\n",
       "2  qSI30254  qrtOonaHvc  1426413973\n",
       "3  tKN13702  piHmtaJTiR  8655258343\n",
       "4  hAZ30064  UlTFPKYWlP  9599800594"
      ]
     },
     "execution_count": 3,
     "metadata": {},
     "output_type": "execute_result"
    }
   ],
   "source": [
    "df[:5]"
   ]
  },
  {
   "cell_type": "code",
   "execution_count": 4,
   "metadata": {},
   "outputs": [],
   "source": [
    "df.to_csv(path_or_buf=filename, index=False)"
   ]
  }
 ],
 "metadata": {
  "kernelspec": {
   "display_name": "Python 3",
   "language": "python",
   "name": "python3"
  },
  "language_info": {
   "codemirror_mode": {
    "name": "ipython",
    "version": 3
   },
   "file_extension": ".py",
   "mimetype": "text/x-python",
   "name": "python",
   "nbconvert_exporter": "python",
   "pygments_lexer": "ipython3",
   "version": "3.7.3"
  }
 },
 "nbformat": 4,
 "nbformat_minor": 2
}
